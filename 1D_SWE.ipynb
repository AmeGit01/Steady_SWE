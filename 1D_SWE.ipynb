{
 "cells": [
  {
   "cell_type": "markdown",
   "id": "5bc640ad",
   "metadata": {},
   "source": [
    "# Steady 1D Shallow Water equations\n",
    "\n",
    "The purpose of this jupyter notebook is to provide a public and free usable stable implementation of the solution of the steady 1D SWE, first adopting a fixed bad approach and then moving to the mobile bed."
   ]
  },
  {
   "cell_type": "markdown",
   "id": "e1c10aa6",
   "metadata": {},
   "source": [
    "## Problem definition\n",
    "First of all the definition of the problem is required, as well as the equations that will be solved.  \n",
    "The problem consists in a (wide) rectangular channel, that can present steps, gates, localized narrowing or whatever along its longitudinal direction. The same solution could be performed for any prismatic channel, the choice of rectangular shape is done just for simplicity purposes. \n",
    "The situation in a section is depicted in the figure, at the same time the foundamental definitions referst to the image:  \n",
    "  \n",
    "![Problem description](images/problem_definition.svg)\n",
    "  \n",
    "The image shows a genelar section for which the following quantities are defined:\n",
    "- d: water depth $[m]$;\n",
    "- h: water level $[m]$;\n",
    "- z: bed elevation (fixed) $[m]$;\n",
    "- $kin:= \\alpha \\frac{U}{2g}$ $[m]$: the kinetic term of the energy;\n",
    "- $H = h + kin$: the total Head (or Energy) $[m]$;\n",
    "- $E = H - z = d + kin$: the Specific head (or Energy) $[m]$;\n",
    "- $S = P_G \\Omega + \\rho \\beta U^2 \\Omega$: the Specific force [$N/m^2$].\n",
    "  \n",
    "Here $P_G$ is the pressure at the barycenter of the section, $\\Omega$ is the cross-sectional area and $U$ the mean velocity all over the section.  \n",
    "\n"
   ]
  },
  {
   "cell_type": "markdown",
   "id": "e14a5651",
   "metadata": {},
   "source": [
    "## The energy equations\n",
    "As anticipated, the problem is solved through the energy equations, obtained from the momentum equation moltiplying them for the velocity $U$, and assuming the steady state. The equations reads as follows:  \n",
    "$\\frac{dh}{dx} = \\frac{\\beta \\frac{F_r^2}{B} \\frac{\\partial \\Omega}{\\partial x}|_h - j}{1+\\beta F_r^2}$  \n",
    "  \n",
    "$\\frac{dd}{dx} = \\frac{\\beta \\frac{F_r^2}{B} \\frac{\\partial \\Omega}{\\partial x}|_d + i_F - j}{1+\\beta F_r^2}$  \n",
    "  \n",
    "$\\frac{dH}{dx} = - j$  \n",
    "\n",
    "$\\frac{dE}{dx} = i_F - j$  \n",
    "  \n",
    "The new terms needs a brief explanation: $j$ is the friction term, which is defined as $j = \\frac{\\tau _0}{\\rho g R_H}$, it contains the friction $\\tau _0$, the water density $\\rho$, the gravity term $g$, and the hydraulic radius $R_H = \\Omega / P$, with $P$ the wetted perimeter. The term $\\frac{\\partial \\Omega}{\\partial x}|_h$ is related to the non prismaticity of the channel, describe how the wetted area changes according to the geometry. This last term is zero in case of completely rectangular channel, in any case for fixed geometry it is just a coefficient that can be precompute and just considered into the equations. Since the equation will be solved for rectangular channel further simplification may be performed, to do not loose generality it will not, the coefficient accounting for the section irregularity will just setted properly."
   ]
  },
  {
   "cell_type": "markdown",
   "id": "9ce82659",
   "metadata": {},
   "source": []
  }
 ],
 "metadata": {
  "kernelspec": {
   "display_name": "Julia 1.11.5",
   "language": "julia",
   "name": "julia-1.11"
  },
  "language_info": {
   "file_extension": ".jl",
   "mimetype": "application/julia",
   "name": "julia",
   "version": "1.11.5"
  }
 },
 "nbformat": 4,
 "nbformat_minor": 5
}
