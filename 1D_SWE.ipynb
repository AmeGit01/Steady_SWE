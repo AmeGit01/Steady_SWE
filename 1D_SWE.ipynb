{
 "cells": [
  {
   "cell_type": "markdown",
   "id": "5bc640ad",
   "metadata": {},
   "source": [
    "# Steady 1D Shallow Water equations\n",
    "\n",
    "The purpose of this jupyter notebook is to provide a public and free usable stable implementation of the solution of the steady 1D SWE, first adopting a fixed bad approach and then moving to the mobile bed."
   ]
  },
  {
   "cell_type": "markdown",
   "id": "e1c10aa6",
   "metadata": {},
   "source": [
    "## Problem definition\n",
    "First of all the definition of the problem is required, as well as the equations that will be solved.  \n",
    "The problem consists in a (wide) rectangular channel, that can present steps, gates, localized narrowing or whatever along its longitudinal direction. The same solution could be performed for any prismatic channel, the choice of rectangular shape is done just for simplicity purposes. \n",
    "The situation in a section is depicted in the figure, at the same time the foundamental definitions referst to the image:  \n",
    "  \n",
    "![Problem description](images/problem_definition.svg)"
   ]
  },
  {
   "cell_type": "markdown",
   "id": "e14a5651",
   "metadata": {},
   "source": []
  }
 ],
 "metadata": {
  "kernelspec": {
   "display_name": "Julia 1.11.5",
   "language": "julia",
   "name": "julia-1.11"
  },
  "language_info": {
   "file_extension": ".jl",
   "mimetype": "application/julia",
   "name": "julia",
   "version": "1.11.5"
  }
 },
 "nbformat": 4,
 "nbformat_minor": 5
}
