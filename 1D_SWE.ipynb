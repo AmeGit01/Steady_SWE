{
 "cells": [
  {
   "cell_type": "code",
   "execution_count": null,
   "id": "929a1e2b",
   "metadata": {},
   "outputs": [],
   "source": [
    "using IJulia, Plots, Printf"
   ]
  },
  {
   "cell_type": "markdown",
   "id": "5bc640ad",
   "metadata": {},
   "source": [
    "# Steady 1D Shallow Water equations\n",
    "\n",
    "The purpose of this jupyter notebook is to provide a public and free usable stable implementation of the solution of the steady 1D SWE, first adopting a fixed bad approach and then moving to the mobile bed."
   ]
  },
  {
   "cell_type": "markdown",
   "id": "e1c10aa6",
   "metadata": {},
   "source": [
    "## Problem definition\n",
    "First of all the definition of the problem is required, as well as the equations that will be solved.  \n",
    "The problem consists in a (wide) rectangular channel, that can present steps, gates, localized narrowing or whatever along its longitudinal direction. The same solution could be performed for any prismatic channel, the choice of rectangular shape is done just for simplicity purposes. \n",
    "The situation in a section is depicted in the figure, at the same time the foundamental definitions referst to the image:  \n",
    "  \n",
    "![Problem description](images/problem_definition.svg)\n",
    "  \n",
    "The image shows a genelar section for which the following quantities are defined:\n",
    "- d: water depth $[m]$;\n",
    "- h: water level $[m]$;\n",
    "- z: bed elevation (fixed) $[m]$;\n",
    "- $kin:= \\alpha \\frac{U}{2g}$ $[m]$: the kinetic term of the energy;\n",
    "- $H = h + kin$: the total Head (or Energy) $[m]$;\n",
    "- $E = H - z = d + kin$: the Specific head (or Energy) $[m]$;\n",
    "- $S = P_G \\Omega + \\rho \\beta U^2 \\Omega$: the Specific force [$N/m^2$].\n",
    "  \n",
    "Here $P_G$ is the pressure at the barycenter of the section, $\\Omega$ is the cross-sectional area and $U$ the mean velocity all over the section.  \n",
    "\n"
   ]
  },
  {
   "cell_type": "markdown",
   "id": "e14a5651",
   "metadata": {},
   "source": [
    "## The energy equations\n",
    "As anticipated, the problem is solved through the energy equations, obtained from the momentum equation moltiplying them for the velocity $U$, and assuming the steady state. The equations reads as follows:  \n",
    "$\\frac{dh}{dx} = \\frac{\\beta \\frac{F_r^2}{B} \\frac{\\partial \\Omega}{\\partial x}|_h - j}{1+\\beta F_r^2}$  \n",
    "  \n",
    "$\\frac{dd}{dx} = \\frac{\\beta \\frac{F_r^2}{B} \\frac{\\partial \\Omega}{\\partial x}|_d + i_F - j}{1+\\beta F_r^2}$  \n",
    "  \n",
    "$\\frac{dH}{dx} = - j$  \n",
    "\n",
    "$\\frac{dE}{dx} = i_F - j$  \n",
    "  \n",
    "The new terms needs a brief explanation: $j$ is the friction term, which is defined as $j = \\frac{\\tau _0}{\\rho g R_H}$, it contains the friction $\\tau _0$, the water density $\\rho$, the gravity term $g$, and the hydraulic radius $R_H = \\Omega / P$, with $P$ the wetted perimeter. The term $\\frac{\\partial \\Omega}{\\partial x}|_h$ is related to the non prismaticity of the channel, describe how the wetted area changes according to the geometry. This last term is zero in case of completely rectangular channel, in any case for fixed geometry it is just a coefficient that can be precompute and just considered into the equations. Since the equation will be solved for rectangular channel further simplification may be performed, to do not loose generality it will not, the coefficient accounting for the section irregularity will just setted properly."
   ]
  },
  {
   "cell_type": "markdown",
   "id": "9ce82659",
   "metadata": {},
   "source": [
    "### Considerations before implementing everything\n",
    "The codes are provided in Julia. It is important to know that any numerical method for solving ODE could be implemented, in this case some manipulations and considerations are adopted for speed in the computations, that is one of the objectivies of this work.  \n",
    "The steps for the implementations are the following:\n",
    "1) Build the geometry and define the $dx$;\n",
    "2) Calculate the critical depth for any considered section;\n",
    "3) Calculate the 2 normal depths for any section;\n",
    "4) Calculate the Specific Force $S$ for both the depths for each section;\n",
    "5) Assign the depth with the greatest $S$ between the two (disxrimination between fast/slow flows).\n",
    "6) Include local discontinuities. "
   ]
  },
  {
   "cell_type": "code",
   "execution_count": 28,
   "id": "ca4e61da",
   "metadata": {},
   "outputs": [
    {
     "name": "stdout",
     "output_type": "stream",
     "text": [
      "Uniform depths: [0.33153635556900923] m\n"
     ]
    }
   ],
   "source": [
    "# Build the geometry and define the $dx$;\n",
    "\n",
    "@views function evaluate_uniform_depth(Q, B, Ks, iF)\n",
    "    # Find the normal depth from the formula above, it is an implicit formula, so adopt an iterative procedure:\n",
    "    Qnew = 0.0; tol = 1.0e-4; res = 0.1; n = 0; d = 1.0; # initial guess for the depth [m]\n",
    "    initial_res = Q - B * d * Ks * ((B * d)/(2*d + B))^(2/3) * iF^(1/2);\n",
    "    while abs(res) >= tol \n",
    "        Qnew = B * d * Ks * ((B * d)/(2*d + B))^(2/3) * iF^(1/2)\n",
    "        res = Q - Qnew;\n",
    "        increment = res/initial_res*0.1;\n",
    "        if res > 0 # so the depth is too small\n",
    "            d += increment; # increase the depth\n",
    "        else\n",
    "            d -= increment; # decrease the depth\n",
    "        end\n",
    "        n += 1\n",
    "    end\n",
    "\n",
    "    #= \n",
    "    println(\"Normal depth: \", d, \" m, after \", n, \" iterations.\")\n",
    "    println(\"Residual: \", res, \" m^3/s, Discarge QNew: \", Qnew, \" m^3/s\")\n",
    "    Yu = (Q/(B * Ks * iF^(1/2)))^(3/5)\n",
    "    println(\"Normal depth WRC: \", Yu, \" m\")\n",
    "    =#\n",
    "    return d\n",
    "end #function\n",
    "\n",
    "L = 1000.0  # length of the channel [m]\n",
    "Q = 20.0    # discharge [m^3/s] Q = Ω Ks R^2/3 iF^1/2\n",
    "B = [100.0]    # width of the channel [m]\n",
    "Ks = 40.0   # Strickler coefficient [m^(1/3)/s] Ks = 1/n\n",
    "iF = [0.001]  # slope of the channel\n",
    "\n",
    "\n",
    "\n",
    "n_segments = 1 # number of segments of the channel (with different slopes)\n",
    "d_uniform = Array{Float64}(undef, n_segments) # array to store the uniform depths\n",
    "for n in 1:n_segments\n",
    "    d_uniform[n] = evaluate_uniform_depth(Q, B[n], Ks, iF[n])\n",
    "end\n",
    "\n",
    "println(\"Uniform depths: \", d_uniform, \" m\")\n",
    "\n",
    "\n"
   ]
  },
  {
   "cell_type": "code",
   "execution_count": null,
   "id": "31794276",
   "metadata": {},
   "outputs": [],
   "source": []
  }
 ],
 "metadata": {
  "kernelspec": {
   "display_name": "Julia 1.11.5",
   "language": "julia",
   "name": "julia-1.11"
  },
  "language_info": {
   "file_extension": ".jl",
   "mimetype": "application/julia",
   "name": "julia",
   "version": "1.11.5"
  }
 },
 "nbformat": 4,
 "nbformat_minor": 5
}
