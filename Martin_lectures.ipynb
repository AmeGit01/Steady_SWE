{
 "cells": [
  {
   "cell_type": "markdown",
   "id": "9a876766",
   "metadata": {},
   "source": [
    "# Basics of Julia programming Language  \n",
    "### Notebook containing the lectures of Martin D. Haas. They can be founded at the following link: https://www.matecdev.com/posts/julia-tutorial-science-engineering.html#is-the-julia-language-free\n",
    "\n",
    "The following lines contains codes and text explaining the basics of the Julia language, then, this informations will be used for coding."
   ]
  },
  {
   "cell_type": "markdown",
   "id": "270278b3",
   "metadata": {},
   "source": [
    "Julia is based on the Packages, they can be easely installed from the REPL. For example, let's install the Linear Algebra package, just write:  \n",
    "`import Pkg; Phg.add(\"LinearAlgebra\")`  \n",
    "and then, at the beginning of the code:  \n",
    "`using LinearAlgebra`\n",
    "\n",
    "The packages can be founded in the official Julia web site, or even the following two links are useful:  \n",
    "- Julia Observer: https://juliaobserver.com/packages  \n",
    "- Julia Packages: https://juliapackages.com/"
   ]
  },
  {
   "cell_type": "markdown",
   "id": "7400d15e",
   "metadata": {},
   "source": [
    "## REPL initializing and functionalities\n",
    "This is true for .jl files, not for Jupyter notebook.  \n",
    "Before to start coding anything, open the VSCode terminal, type `Julia: Start REPL`, this will start the REPL. From now on, the REPL can be used in 4 ways:\n",
    "- Typing directly some commands;\n",
    "- ? for access the help mode, name of functions can be written after '?' to get some documentation;\n",
    "- ; for access the shell mode, this allows you to navigate over the directories;\n",
    "- ] for access the package mode, to install packages.\n"
   ]
  },
  {
   "cell_type": "markdown",
   "id": "9bc2f95d",
   "metadata": {},
   "source": [
    "### Run only part of the whole code\n",
    "There are few short cut for running just part (or lines) of the whole code:\n",
    "- Ctrl+Enter: Run a line;\n",
    "- Alt+Enter: Run a block (selected text);\n",
    "- Shift+Enter: Run a cell (delimed by ## like in Matlab)\n",
    "\n",
    "To run the whole file just type `Julia: Execute File in REPL`, or just click 'run' in the upper-right corner and select 'Execute File in REPL'"
   ]
  },
  {
   "cell_type": "markdown",
   "id": "63b3bfb6",
   "metadata": {},
   "source": [
    "Julia adopts the Unicode Math Symbols for greek letters and so on just typing them as in latex, hereinafter an example. This make the code fancy and easier to read."
   ]
  },
  {
   "cell_type": "code",
   "execution_count": 1,
   "id": "bfa380c7-0791-42ca-9928-dda86f0e9269",
   "metadata": {},
   "outputs": [
    {
     "data": {
      "text/plain": [
       "π = 3.1415926535897..."
      ]
     },
     "metadata": {},
     "output_type": "display_data"
    }
   ],
   "source": [
    "θ = 5\n",
    "α = 11\n",
    "π\n",
    "# ecc"
   ]
  },
  {
   "cell_type": "markdown",
   "id": "c32674b9",
   "metadata": {},
   "source": [
    "Julia Should show the autocompletions while typing, It could happen that it do not. In that case, just press `Ctrl+Space`"
   ]
  },
  {
   "cell_type": "markdown",
   "id": "c7b725a9",
   "metadata": {},
   "source": [
    "# Shortcut list\n",
    "For appearing the complete list of shorcuts just type `Ctrl + K` and then `Ctrl + S`."
   ]
  },
  {
   "cell_type": "markdown",
   "id": "d336ffe0",
   "metadata": {},
   "source": [
    "# Variables types"
   ]
  },
  {
   "cell_type": "markdown",
   "id": "2e316a89",
   "metadata": {},
   "source": [
    "## Numerical variables\n",
    "It is important to know there is a Hierarchy into the numerical variables, that have to be seen as follows: it is straighforward to convert numbers from lower to higher hierarchical levels, it is not from higher to lower levels. The Hierarchy is depicted by the image:  \n",
    "\n",
    "![Hierarchy](images/Number_Hierarchy.PNG)"
   ]
  },
  {
   "cell_type": "markdown",
   "id": "6acd8d62",
   "metadata": {},
   "source": [
    "Some examples are reported in the following cell"
   ]
  },
  {
   "cell_type": "code",
   "execution_count": 2,
   "id": "bc8aa8fe",
   "metadata": {},
   "outputs": [
    {
     "data": {
      "text/plain": [
       "Float16(2.0)"
      ]
     },
     "metadata": {},
     "output_type": "display_data"
    }
   ],
   "source": [
    "# From integer to floating point numbers: lower => higher\n",
    "Float64(2) # 2.0 double precision\n",
    "Float32(2) # 2.0f0 single precision\n",
    "Float16(2) # Float16(2.0) half precision"
   ]
  },
  {
   "cell_type": "code",
   "execution_count": 3,
   "id": "cf17d52d",
   "metadata": {},
   "outputs": [
    {
     "data": {
      "text/plain": [
       "3"
      ]
     },
     "metadata": {},
     "output_type": "display_data"
    }
   ],
   "source": [
    "# From floating point numbers to integer: higher => lower\n",
    "Int64(2.0)          # 2\n",
    "# Int64(2.4)          # error\n",
    "floor(Int64,2.4)    # 2\n",
    "ceil(Int64,2.4)     # 3"
   ]
  },
  {
   "cell_type": "markdown",
   "id": "2a78fce5",
   "metadata": {},
   "source": [
    "### Divisions \n",
    "By definition, dividing two integers we obtain a float64, we can truncate the division at the integer using the `div()` function (also can be used `÷`) or return the remainder (resto) with the `rem()` (also can be used `%`)."
   ]
  },
  {
   "cell_type": "code",
   "execution_count": 4,
   "id": "f876f75a",
   "metadata": {},
   "outputs": [
    {
     "data": {
      "text/plain": [
       "1"
      ]
     },
     "metadata": {},
     "output_type": "display_data"
    }
   ],
   "source": [
    "a = 1/2     # 0.5, Float64\n",
    "div(10,3)   # 3\n",
    "÷(10,3)     # 3\n",
    "rem(10,3)   # 1\n",
    "%(10,3)     # 1"
   ]
  },
  {
   "cell_type": "markdown",
   "id": "c949e313",
   "metadata": {},
   "source": [
    "### Integers vs Float\n",
    "assigning `a = 2`, julia automatically assign 'Int64' to `a`, that after `2^{64}` goes overflow. Leading to unexpected results for the expression `1/a^64`"
   ]
  },
  {
   "cell_type": "code",
   "execution_count": 5,
   "id": "4d1f040b",
   "metadata": {},
   "outputs": [
    {
     "data": {
      "text/plain": [
       "Inf"
      ]
     },
     "metadata": {},
     "output_type": "display_data"
    }
   ],
   "source": [
    "a = 2\n",
    "b = 1/a^64"
   ]
  },
  {
   "cell_type": "markdown",
   "id": "456781b2",
   "metadata": {},
   "source": [
    "Just replacing the `Int64` with the `Float64` in one of the following way the problem is fixed."
   ]
  },
  {
   "cell_type": "code",
   "execution_count": 6,
   "id": "fe88cbc3",
   "metadata": {},
   "outputs": [
    {
     "data": {
      "text/plain": [
       "5.421010862427522e-20"
      ]
     },
     "metadata": {},
     "output_type": "display_data"
    }
   ],
   "source": [
    "a = 2.0\n",
    "b = 1/a^64"
   ]
  },
  {
   "cell_type": "code",
   "execution_count": 7,
   "id": "73d283d0",
   "metadata": {},
   "outputs": [
    {
     "data": {
      "text/plain": [
       "5.421010862427522e-20"
      ]
     },
     "metadata": {},
     "output_type": "display_data"
    }
   ],
   "source": [
    "a = 2\n",
    "b = (1/a)^64"
   ]
  },
  {
   "cell_type": "markdown",
   "id": "f3d4e13c",
   "metadata": {},
   "source": [
    "## Boolean Variables\n",
    "The boolean variables are of course `true` and `false`, to which we can apply some conditions:"
   ]
  },
  {
   "cell_type": "markdown",
   "id": "c0feb78e",
   "metadata": {},
   "source": [
    "### Locigal Operators\n",
    "- And: `&&` it check the first condition fisrt, than the second. It does not even check the second condition if the first is `false`;\n",
    "- Or: `||` as the 'and' condition, if the first condition is `true` it does not even check the second.\n",
    "- Not: `!` it have to be put before the expression, return the opposite of the expression (example: `if x!=0 ...` means 'if x is different than 0...').\n"
   ]
  },
  {
   "cell_type": "markdown",
   "id": "67c665e2",
   "metadata": {},
   "source": [
    "### Logical to numbers\n",
    "The boolean variables can be used also as integers, in fact `true==1` and `false==0`"
   ]
  },
  {
   "cell_type": "code",
   "execution_count": 8,
   "id": "149a261c",
   "metadata": {},
   "outputs": [
    {
     "data": {
      "text/plain": [
       "2"
      ]
     },
     "metadata": {},
     "output_type": "display_data"
    }
   ],
   "source": [
    "true + true"
   ]
  },
  {
   "cell_type": "code",
   "execution_count": 9,
   "id": "52f01324",
   "metadata": {},
   "outputs": [
    {
     "data": {
      "text/plain": [
       "true"
      ]
     },
     "metadata": {},
     "output_type": "display_data"
    }
   ],
   "source": [
    "true"
   ]
  },
  {
   "cell_type": "code",
   "execution_count": 10,
   "id": "4c817e65",
   "metadata": {},
   "outputs": [
    {
     "data": {
      "text/plain": [
       "1"
      ]
     },
     "metadata": {},
     "output_type": "display_data"
    }
   ],
   "source": [
    "true + false"
   ]
  },
  {
   "cell_type": "markdown",
   "id": "a68ee047",
   "metadata": {},
   "source": [
    "# String concatenation and formatting"
   ]
  },
  {
   "cell_type": "markdown",
   "id": "34fdd1dd",
   "metadata": {},
   "source": [
    "Very important information: in Julia there is a distinction between.\n",
    "- Character: `char` defined by `'...'`;\n",
    "- String: `string` defined by `\"...\"`, it contains multible characters.  \n",
    "\n",
    "Both the following structures are used to concatenate strings"
   ]
  },
  {
   "cell_type": "code",
   "execution_count": 11,
   "id": "044129e6",
   "metadata": {},
   "outputs": [
    {
     "data": {
      "text/plain": [
       "\"Hello world\""
      ]
     },
     "metadata": {},
     "output_type": "display_data"
    }
   ],
   "source": [
    "\"Hello \" * \"wor\" * \"ld\"\n",
    "string(\"Hello \", \"wor\", \"ld\")"
   ]
  },
  {
   "cell_type": "markdown",
   "id": "136ab701",
   "metadata": {},
   "source": [
    "### Convert Numbers to String\n",
    "There are 3 main ways:\n",
    "- Using `string` function, probably the easiest and the most intuitive, not the cheapest;\n",
    "- Using string interpolation, the cheapest, used especially for writing long strings;\n",
    "- Using the C-style `Printf` package, especially used to control the formats."
   ]
  },
  {
   "cell_type": "code",
   "execution_count": 12,
   "id": "d266e17c",
   "metadata": {},
   "outputs": [],
   "source": [
    "using Printf"
   ]
  },
  {
   "cell_type": "code",
   "execution_count": 13,
   "id": "31b1bf23",
   "metadata": {},
   "outputs": [
    {
     "data": {
      "text/plain": [
       "\"0.14285714285714285 is a rational number\""
      ]
     },
     "metadata": {},
     "output_type": "display_data"
    }
   ],
   "source": [
    "string(1/7, \" is a rational number\")\n",
    "\"$(1/7) is a rational number\""
   ]
  },
  {
   "cell_type": "code",
   "execution_count": 14,
   "id": "c30e654b",
   "metadata": {},
   "outputs": [
    {
     "data": {
      "text/plain": [
       "\"0.1429 is a rational number\""
      ]
     },
     "metadata": {},
     "output_type": "display_data"
    }
   ],
   "source": [
    "@sprintf(\"%.4f is a rational number\", 1/7)"
   ]
  },
  {
   "cell_type": "markdown",
   "id": "340a0d9f",
   "metadata": {},
   "source": [
    "Qui di seguito sono riportati altri comandi che possono essere utili nell'utilizzo dei notebook"
   ]
  },
  {
   "cell_type": "code",
   "execution_count": 15,
   "id": "bf279ed4",
   "metadata": {},
   "outputs": [
    {
     "data": {
      "text/plain": [
       "\"0.1429 is a rational number\""
      ]
     },
     "metadata": {},
     "output_type": "display_data"
    }
   ],
   "source": [
    "st1 = string(1/7, \" is a rational number\")\n",
    "st2 = \"$(1/7) is a rational number\"\n",
    "st3 = @sprintf(\"%.4f is a rational number\", 1/7)"
   ]
  },
  {
   "cell_type": "code",
   "execution_count": 16,
   "id": "c9ba071b",
   "metadata": {},
   "outputs": [
    {
     "name": "stdout",
     "output_type": "stream",
     "text": [
      "0.14285714285714285 is a rational number\n",
      "0.14285714285714285 is a rational number\n",
      "0.1429 is a rational number\n"
     ]
    }
   ],
   "source": [
    "println(string(1/7, \" is a rational number\"))\n",
    "println(\"$(1/7) is a rational number\")\n",
    "println(@sprintf(\"%.4f is a rational number\", 1/7))"
   ]
  },
  {
   "cell_type": "code",
   "execution_count": 17,
   "id": "3514f3cc",
   "metadata": {},
   "outputs": [
    {
     "name": "stdout",
     "output_type": "stream",
     "text": [
      "string(1 / 7, \" is a rational number\") = \"0.14285714285714285 is a rational number\"\n",
      "\"$(1 / 7) is a rational number\" = \"0.14285714285714285 is a rational number\"\n",
      "#= c:\\Users\\utente\\Documents\\JULIA\\Julia_course\\jl_notebook_cell_df34fa98e69747e1a8f8a730347b8e2f_X50sZmlsZQ==.jl:3 =# @sprintf(\"%.4f is a rational number\", 1 / 7) = \"0.1429 is a rational number\"\n"
     ]
    },
    {
     "data": {
      "text/plain": [
       "\"0.1429 is a rational number\""
      ]
     },
     "metadata": {},
     "output_type": "display_data"
    }
   ],
   "source": [
    "@show string(1/7, \" is a rational number\")\n",
    "@show \"$(1/7) is a rational number\"\n",
    "@show @sprintf(\"%.4f is a rational number\", 1/7)"
   ]
  },
  {
   "cell_type": "code",
   "execution_count": 18,
   "id": "a1470d31",
   "metadata": {},
   "outputs": [
    {
     "data": {
      "text/plain": [
       "\"Our model has a R^2 of 0.94, rmse of 1.5, and mse of 1.1\""
      ]
     },
     "metadata": {},
     "output_type": "display_data"
    }
   ],
   "source": [
    "# Example of long string concatenation\n",
    "rmse = 1.5; mse = 1.1; R2 = 0.94\n",
    "\"Our model has a R^2 of $(R2), rmse of $(rmse), and mse of $(mse)\""
   ]
  },
  {
   "cell_type": "markdown",
   "id": "a06e9f75",
   "metadata": {},
   "source": [
    "# For loops"
   ]
  },
  {
   "cell_type": "markdown",
   "id": "90747a4a",
   "metadata": {},
   "source": [
    "The simplest way to perform a for loop is the following:"
   ]
  },
  {
   "cell_type": "code",
   "execution_count": 19,
   "id": "7e57d9b7",
   "metadata": {},
   "outputs": [
    {
     "name": "stdout",
     "output_type": "stream",
     "text": [
      "x = 1.6449240668982423\n"
     ]
    }
   ],
   "source": [
    "x=0\n",
    "for k in 1:100000\n",
    "    x = x + (1/k)^2\n",
    "end\n",
    "println(\"x = $x\")"
   ]
  },
  {
   "cell_type": "markdown",
   "id": "9590ce3f",
   "metadata": {},
   "source": [
    "### Nested loops\n",
    "Most of the real cases are actually nested loops, that can be performed in the simple way:"
   ]
  },
  {
   "cell_type": "code",
   "execution_count": 20,
   "id": "e56f4bb0",
   "metadata": {},
   "outputs": [
    {
     "name": "stdout",
     "output_type": "stream",
     "text": [
      "i=1 j=1\n",
      "i=1 j=2\n",
      "i=1 j=3\n",
      "i=2 j=1\n",
      "i=2 j=2\n",
      "i=2 j=3\n",
      "i=3 j=1\n",
      "i=3 j=2\n",
      "i=3 j=3\n"
     ]
    }
   ],
   "source": [
    "for i in 1:3\n",
    "    for j in 1:3\n",
    "        print(\"i=\", i, \" j=\", j, \"\\n\")\n",
    "    end\n",
    "end"
   ]
  },
  {
   "cell_type": "markdown",
   "id": "cef2ac53",
   "metadata": {},
   "source": [
    "The same can be done with a slighly different sintax, more compact especially for more than 2 loops (the symbol 'appartenente' is written in julia as `\\in`)"
   ]
  },
  {
   "cell_type": "code",
   "execution_count": 21,
   "id": "4352decd",
   "metadata": {},
   "outputs": [
    {
     "name": "stdout",
     "output_type": "stream",
     "text": [
      "i=1 j=1\n",
      "i=1 j=2\n",
      "i=1 j=3\n",
      "i=2 j=1\n",
      "i=2 j=2\n",
      "i=2 j=3\n",
      "i=3 j=1\n",
      "i=3 j=2\n",
      "i=3 j=3\n"
     ]
    }
   ],
   "source": [
    "for i in 1:3, j in 1:3\n",
    "    print(\"i=\", i, \" j=\", j, \"\\n\")\n",
    "end"
   ]
  },
  {
   "cell_type": "code",
   "execution_count": 22,
   "id": "854c4ce5",
   "metadata": {},
   "outputs": [
    {
     "name": "stdout",
     "output_type": "stream",
     "text": [
      "i=1 j=1\n",
      "i=1 j=2\n",
      "i=1 j=3\n",
      "i=2 j=1\n",
      "i=2 j=2\n",
      "i=2 j=3\n",
      "i=3 j=1\n",
      "i=3 j=2\n",
      "i=3 j=3\n"
     ]
    }
   ],
   "source": [
    "for i ∈ 1:3, j ∈ 1:3\n",
    "    print(\"i=\", i, \" j=\", j, \"\\n\")\n",
    "end"
   ]
  },
  {
   "cell_type": "markdown",
   "id": "754cae02",
   "metadata": {},
   "source": [
    "### Break statement\n",
    "It is used to break a for loop before the ending of all the iterations, as in Matab\n",
    "\n",
    "### Continue statement\n",
    "It is used to skip the current iteraion of a for loop and continue from the following, example:"
   ]
  },
  {
   "cell_type": "code",
   "execution_count": 23,
   "id": "5187e839",
   "metadata": {},
   "outputs": [
    {
     "name": "stdout",
     "output_type": "stream",
     "text": [
      "numbers (first) = 0.34417\n",
      "sum = -28.574013778310057\n"
     ]
    }
   ],
   "source": [
    "numbers = randn(100)\n",
    "somma = 0\n",
    "for k in numbers\n",
    "    if (k==0) continue end\n",
    "    somma = somma + 1/k\n",
    "end\n",
    "println(@sprintf(\"numbers (first) = %.5f\", numbers[1]))\n",
    "println(\"sum = $somma\")"
   ]
  },
  {
   "cell_type": "markdown",
   "id": "ccb2b3f5",
   "metadata": {},
   "source": [
    "# Functions\n",
    "In julia functions are used to gain computational speed, in fact, each of the most expensive parts of the code should be placed into a function.\n",
    "### Defining functions\n",
    "A function can be defined in the two following ways (the second is one line). Once the function is defined and executed, it can be called iven from the REPL, there is no need to assign a variable to the result of the function."
   ]
  },
  {
   "cell_type": "code",
   "execution_count": 24,
   "id": "3f186ab9",
   "metadata": {},
   "outputs": [
    {
     "data": {
      "text/plain": [
       "sum_zeta_oneline (generic function with 1 method)"
      ]
     },
     "metadata": {},
     "output_type": "display_data"
    }
   ],
   "source": [
    "# \"Traditional\" for loop\n",
    "function sum_zeta_equivalent(s, nterms)\n",
    "    x = 0.0\n",
    "    for n in 1:nterms\n",
    "        x = x + 1/n^s\n",
    "    end\n",
    "    return x\n",
    "end\n",
    "\n",
    "# \"Smarter\" for loop\n",
    "function sum_zeta(s, nterms)\n",
    "    x = 0.0\n",
    "    for n in 1:nterms\n",
    "        x += 1/n^s\n",
    "    end\n",
    "    return x\n",
    "end\n",
    "\n",
    "# One line function (for loop)\n",
    "sum_zeta_oneline(s::Int64, nterms::Int64) = sum((1.0 / n)^s for n in 1:nterms)\n",
    "#methods(sum_zeta_oneline)"
   ]
  },
  {
   "cell_type": "code",
   "execution_count": 25,
   "id": "c097d0f5",
   "metadata": {},
   "outputs": [
    {
     "name": "stdout",
     "output_type": "stream",
     "text": [
      "sum_zeta(2, 100000) = 1.6449240668982423\n",
      "sum_zeta_equivalent(2, 100000) = 1.6449240668982423\n",
      "sum_zeta_oneline(2, 100000) = 1.6449240668982423\n"
     ]
    }
   ],
   "source": [
    "println(\"sum_zeta(2, 100000) = \", sum_zeta(2, 100000))\n",
    "println(\"sum_zeta_equivalent(2, 100000) = \", sum_zeta_equivalent(2, 100000))\n",
    "println(\"sum_zeta_oneline(2, 100000) = \", sum_zeta_oneline(2, 100000))"
   ]
  },
  {
   "cell_type": "markdown",
   "id": "58e22087",
   "metadata": {},
   "source": [
    "### Functions with optional input\n",
    "Can be useful to define a default value of certain input, so that in can either expressed when calling the function or not, as follows:"
   ]
  },
  {
   "cell_type": "markdown",
   "id": "01842986",
   "metadata": {},
   "source": [
    "Note there is a difference between the two:  \n",
    "1. function 1 is defined with a comma between the two arguments and the second has a default value, in this case, the default value CANNOT be modified when calling the function;\n",
    "2. function 2 is defined with a semicolon between the two arguments and the second has a default value, in this case, the default value CAN be modified when calling the function. The position of the calling of the pre-set value is not important, is the name the govern the call. In the calling just use commas. \n"
   ]
  },
  {
   "cell_type": "code",
   "execution_count": 26,
   "id": "4fd5d238",
   "metadata": {},
   "outputs": [
    {
     "data": {
      "text/plain": [
       "sum_zeta_oneline (generic function with 3 methods)"
      ]
     },
     "metadata": {},
     "output_type": "display_data"
    }
   ],
   "source": [
    "# function 1\n",
    "sum_zeta_oneline(s, nterms = 100000) = sum((1.0 / n)^s for n in 1:nterms)\n",
    "# methods(sum_zeta_oneline)"
   ]
  },
  {
   "cell_type": "code",
   "execution_count": 27,
   "id": "5b96cf27",
   "metadata": {},
   "outputs": [
    {
     "name": "stdout",
     "output_type": "stream",
     "text": [
      "sum_zeta_oneline(2, 100000) = 1.6449240668982423\n"
     ]
    },
    {
     "ename": "MethodError",
     "evalue": "MethodError: no method matching sum_zeta_oneline(::Int64; nterms::Int64)\nThis method may not support any kwargs.\n\nClosest candidates are:\n  sum_zeta_oneline(::Int64, !Matched::Int64) got unsupported keyword argument \"nterms\"\n   @ Main c:\\Users\\utente\\Documents\\JULIA\\Julia_course\\jl_notebook_cell_df34fa98e69747e1a8f8a730347b8e2f_X66sZmlsZQ==.jl:20\n  sum_zeta_oneline(::Any, !Matched::Any) got unsupported keyword argument \"nterms\"\n   @ Main c:\\Users\\utente\\Documents\\JULIA\\Julia_course\\jl_notebook_cell_df34fa98e69747e1a8f8a730347b8e2f_Y103sZmlsZQ==.jl:2\n  sum_zeta_oneline(::Any) got unsupported keyword argument \"nterms\"\n   @ Main c:\\Users\\utente\\Documents\\JULIA\\Julia_course\\jl_notebook_cell_df34fa98e69747e1a8f8a730347b8e2f_Y103sZmlsZQ==.jl:2\n",
     "output_type": "error",
     "traceback": [
      "MethodError: no method matching sum_zeta_oneline(::Int64; nterms::Int64)\n",
      "This method may not support any kwargs.\n",
      "\n",
      "Closest candidates are:\n",
      "  sum_zeta_oneline(::Int64, !Matched::Int64) got unsupported keyword argument \"nterms\"\n",
      "   @ Main c:\\Users\\utente\\Documents\\JULIA\\Julia_course\\jl_notebook_cell_df34fa98e69747e1a8f8a730347b8e2f_X66sZmlsZQ==.jl:20\n",
      "  sum_zeta_oneline(::Any, !Matched::Any) got unsupported keyword argument \"nterms\"\n",
      "   @ Main c:\\Users\\utente\\Documents\\JULIA\\Julia_course\\jl_notebook_cell_df34fa98e69747e1a8f8a730347b8e2f_Y103sZmlsZQ==.jl:2\n",
      "  sum_zeta_oneline(::Any) got unsupported keyword argument \"nterms\"\n",
      "   @ Main c:\\Users\\utente\\Documents\\JULIA\\Julia_course\\jl_notebook_cell_df34fa98e69747e1a8f8a730347b8e2f_Y103sZmlsZQ==.jl:2\n",
      "\n",
      "\n",
      "Stacktrace:\n",
      " [1] top-level scope\n",
      "   @ c:\\Users\\utente\\Documents\\JULIA\\Julia_course\\jl_notebook_cell_df34fa98e69747e1a8f8a730347b8e2f_Y104sZmlsZQ==.jl:2"
     ]
    }
   ],
   "source": [
    "println(\"sum_zeta_oneline(2, 100000) = \", sum_zeta_oneline(2))\n",
    "println(\"sum_zeta_oneline(2, 10) = \", sum_zeta_oneline(2, nterms = 10))\n",
    "# if it works is because the cell below is already executed"
   ]
  },
  {
   "cell_type": "code",
   "execution_count": 28,
   "id": "8a973bd9",
   "metadata": {},
   "outputs": [
    {
     "data": {
      "text/plain": [
       "sum_zeta_oneline (generic function with 3 methods)"
      ]
     },
     "metadata": {},
     "output_type": "display_data"
    }
   ],
   "source": [
    "# function 2\n",
    "sum_zeta_oneline(s; nterms = 100000) = sum((1.0 / n)^s for n in 1:nterms)\n",
    "# methods(sum_zeta_oneline)"
   ]
  },
  {
   "cell_type": "code",
   "execution_count": 29,
   "id": "34eeb82b",
   "metadata": {},
   "outputs": [
    {
     "name": "stdout",
     "output_type": "stream",
     "text": [
      "sum_zeta_oneline(2, 100000) = 1.6449240668982423\n",
      "sum_zeta_oneline(2, 10) = 1.5497677311665408\n"
     ]
    }
   ],
   "source": [
    "println(\"sum_zeta_oneline(2, 100000) = \", sum_zeta_oneline(2))\n",
    "println(\"sum_zeta_oneline(2, 10) = \", sum_zeta_oneline(2, nterms = 10))"
   ]
  },
  {
   "cell_type": "markdown",
   "id": "60f3d322",
   "metadata": {},
   "source": [
    "### Functions with multiple output\n",
    "Just put more than one variables after the `return` statement, separated by a comma.  \n",
    "The calling phase can be any, all the output can be called in a single structure (immutable) and then separeted, or directly stored in more variables."
   ]
  },
  {
   "cell_type": "markdown",
   "id": "0f2d2e34",
   "metadata": {},
   "source": [
    "### Functions which modify the input\n",
    "Since Julia doesn't pass a copy of the input array but the array itself, the notation when a function modify at least one of their input consists in putting a `!` after the name of the function.  \n",
    "NB: julia mutates only the mutable objects, if we try tu mutate a structure into a function, then it will be modified only inside it, not outside, as happend for the arrays."
   ]
  },
  {
   "cell_type": "markdown",
   "id": "b6bbab3a",
   "metadata": {},
   "source": [
    "### Anonimous functions\n",
    "Can happen that we don't want to store a function that have to be passed as input of an other function (maybe it's easy and it's not convenient to store it), than a function can be defined without saving it. Let's see the example:"
   ]
  },
  {
   "cell_type": "code",
   "execution_count": 30,
   "id": "a844c726",
   "metadata": {},
   "outputs": [
    {
     "data": {
      "text/plain": [
       "secant (generic function with 1 method)"
      ]
     },
     "metadata": {},
     "output_type": "display_data"
    }
   ],
   "source": [
    "# This function finds the root of a function f using the secant method\n",
    "# f: function to find the root of\n",
    "function secant(f,a,b,rtol,maxIters)\n",
    "    iter = 0\n",
    "    while abs(b-a) > rtol*abs(b) && iter < maxIters\n",
    "        c,a = a,b\n",
    "        b = b + (b-c)/(f(c)/f(b)-1)\n",
    "        iter = iter + 1\n",
    "    end\n",
    "    return b\n",
    "end"
   ]
  },
  {
   "cell_type": "code",
   "execution_count": 31,
   "id": "18edb3e0",
   "metadata": {},
   "outputs": [
    {
     "name": "stdout",
     "output_type": "stream",
     "text": [
      "ϕ = 1.6180339887498947\n"
     ]
    }
   ],
   "source": [
    "ϕ = secant(x -> x^2 - x - 1, 1, 2, 1e-15, 10)\n",
    "# The function here is x -> x^2 - x - 1\n",
    "println(\"ϕ = $ϕ\")"
   ]
  },
  {
   "cell_type": "markdown",
   "id": "ce90b6ae",
   "metadata": {},
   "source": [
    "### Storing function in separate files\n",
    "We can write a separate .jl file (example: functions_file.jl) that contains all the functions that we need, that just remember to call it as follows:  \n",
    "`include(\"functions_file.jl\")`  \n",
    "Than any of the functions here inside can be called and used."
   ]
  },
  {
   "cell_type": "markdown",
   "id": "a4930d56",
   "metadata": {},
   "source": [
    "# Arrays and matrices\n",
    "At the following link, if needed, can be found additional information: https://www.matecdev.com/posts/julia-array-initialize.html  \n",
    "So far, the most relevant information to know is given by the following example.  \n",
    "Also arrays with different element type can be written."
   ]
  },
  {
   "cell_type": "code",
   "execution_count": null,
   "id": "1e59c7dd",
   "metadata": {},
   "outputs": [
    {
     "name": "stdout",
     "output_type": "stream",
     "text": [
      "b1 = [4.0, 5.0, 6.0], b2 = [4.0, 5.0, 6.0], m1 = [4.0 5.0 6.0] A = [1 2 3; 4 5 6; 7 8 9]\n"
     ]
    }
   ],
   "source": [
    "b1 = [4.0, 5, 6]                # 3-element Vector{Float64}\n",
    "b2 = [4.0; 5; 6]                # 3-element Vector{Float64}\n",
    "m1 = [4.0 5 6]                  # 1×3 Matrix{Float64}\n",
    "A = [1 2 3; 4 5 6; 7 8 9]        # 3×3 Matrix{Int64}\n",
    "\n",
    "println(\"b1 = $b1, b2 = $b2, m1 = $m1\", \" A = $A\")"
   ]
  },
  {
   "cell_type": "code",
   "execution_count": 35,
   "id": "72cf6af8",
   "metadata": {},
   "outputs": [
    {
     "data": {
      "text/plain": [
       "3-element Vector{Int64}:\n",
       " 4\n",
       " 5\n",
       " 6"
      ]
     },
     "metadata": {},
     "output_type": "display_data"
    }
   ],
   "source": [
    "[4, 5, 6]"
   ]
  },
  {
   "cell_type": "code",
   "execution_count": 36,
   "id": "79d6a2d4",
   "metadata": {},
   "outputs": [
    {
     "data": {
      "text/plain": [
       "1×3 Matrix{Int64}:\n",
       " 4  5  6"
      ]
     },
     "metadata": {},
     "output_type": "display_data"
    }
   ],
   "source": [
    "[4 5 6]"
   ]
  },
  {
   "cell_type": "code",
   "execution_count": 37,
   "id": "d82ea177",
   "metadata": {},
   "outputs": [
    {
     "data": {
      "text/plain": [
       "3-element Vector{Int64}:\n",
       " 4\n",
       " 5\n",
       " 6"
      ]
     },
     "metadata": {},
     "output_type": "display_data"
    }
   ],
   "source": [
    "[4; 5; 6]"
   ]
  },
  {
   "cell_type": "code",
   "execution_count": 38,
   "id": "9501e339",
   "metadata": {},
   "outputs": [
    {
     "data": {
      "text/plain": [
       "3×3 Matrix{Int64}:\n",
       " 1  2  3\n",
       " 4  5  6\n",
       " 7  8  9"
      ]
     },
     "metadata": {},
     "output_type": "display_data"
    }
   ],
   "source": [
    "[1 2 3; 4 5 6; 7 8 9]"
   ]
  },
  {
   "cell_type": "markdown",
   "id": "0e225b53",
   "metadata": {},
   "source": [
    "Even a similar way to the one-line function can be used to define arrays, in this case two syntaxes are possible, with different results:  \n",
    "- []: in this case we define a vector;\n",
    "- (): in this case we define a generator, the difference is that its memory is not already allocted, it will be only when needed, could be bettere performancing."
   ]
  },
  {
   "cell_type": "code",
   "execution_count": null,
   "id": "a4ae2509",
   "metadata": {},
   "outputs": [
    {
     "data": {
      "text/plain": [
       "1.644924066898228"
      ]
     },
     "metadata": {},
     "output_type": "display_data"
    }
   ],
   "source": [
    "vec = [(1/n)^2 for n in 1:100000]\n",
    "x = sum(vec)"
   ]
  },
  {
   "cell_type": "code",
   "execution_count": 41,
   "id": "efdf8745",
   "metadata": {},
   "outputs": [
    {
     "data": {
      "text/plain": [
       "1.6449240668982423"
      ]
     },
     "metadata": {},
     "output_type": "display_data"
    }
   ],
   "source": [
    "gen = ((1/n)^2 for n in 1:100000)\n",
    "x = sum(gen)"
   ]
  },
  {
   "cell_type": "markdown",
   "id": "c7eaccdc",
   "metadata": {},
   "source": [
    "### Undefined vectors (matrices)\n",
    "Vectors can also be defined without specifying their values, so, without filling them with 0 as in Matlab, but just allocate a portion of the memory and waiting for the filling phase. This save a bit of time instead of filling them with 0 or 1.  \n",
    "The most used type are `Float64`, `int64` and `ComplexF64`."
   ]
  },
  {
   "cell_type": "code",
   "execution_count": 2,
   "id": "882ecb5c",
   "metadata": {},
   "outputs": [
    {
     "data": {
      "text/plain": [
       "5-element Vector{Int64}:\n",
       "         4194304\n",
       "   1536065142792\n",
       "   1536134143408\n",
       "   1536080807600\n",
       " 140716376883984"
      ]
     },
     "metadata": {},
     "output_type": "display_data"
    }
   ],
   "source": [
    "n = 5\n",
    "A1 = Array{Float64}(undef,n,n)          # 5×5 Matrix{Float64}\n",
    "A2 = Matrix{Float64}(undef,n,n)         # 5×5 Matrix{Float64}\n",
    "\n",
    "V1 = Array{Float64}(undef,n)            # 5-element Vector{Float64}\n",
    "V2 = Vector{Float64}(undef,n)           # 5-element Vector{Float64}\n",
    "\n",
    "A = Array{String}(undef,n)\n",
    "A = Array{Int}(undef,n)"
   ]
  },
  {
   "cell_type": "markdown",
   "id": "c3da1af9",
   "metadata": {},
   "source": [
    "Also empty arrays can be initialized (without dimensions), the following example contains equivalent commands.  \n",
    "It is ALWAYS better to specify the type of the data stored into a vector."
   ]
  },
  {
   "cell_type": "code",
   "execution_count": 43,
   "id": "bb7a8d40",
   "metadata": {},
   "outputs": [
    {
     "data": {
      "text/plain": [
       "Any[]"
      ]
     },
     "metadata": {},
     "output_type": "display_data"
    }
   ],
   "source": [
    "v = Array{Float64}(undef, 0); v = Float64[]; v = Vector{Float64}(undef, 0)\n",
    "v = Any[]; v = Array{Any}(undef, 0); v = Vector{Any}(undef, 0); v = []"
   ]
  },
  {
   "cell_type": "markdown",
   "id": "7440dac9",
   "metadata": {},
   "source": [
    "Also function Matlab-style like `ones()`, `zeros()` and be used, also `rand()` that adopt the same filosophy of the previous two.  \n",
    "To define an Identity matrix just type `I`, but a package is required."
   ]
  },
  {
   "cell_type": "code",
   "execution_count": 51,
   "id": "74e5f468",
   "metadata": {},
   "outputs": [
    {
     "data": {
      "text/plain": [
       "3×3 Diagonal{Bool, Vector{Bool}}:\n",
       " 1  ⋅  ⋅\n",
       " ⋅  1  ⋅\n",
       " ⋅  ⋅  1"
      ]
     },
     "metadata": {},
     "output_type": "display_data"
    }
   ],
   "source": [
    "using LinearAlgebra\n",
    "mat = 5I + rand(3,3)\n",
    "mat = I(3)"
   ]
  },
  {
   "cell_type": "markdown",
   "id": "7d927147",
   "metadata": {},
   "source": [
    "## The dot operator\n",
    "To extend function that accept only scalar input to array input, just put a dot at the end of the function's name"
   ]
  },
  {
   "cell_type": "code",
   "execution_count": 55,
   "id": "ed4fc1cf",
   "metadata": {},
   "outputs": [
    {
     "data": {
      "text/plain": [
       "10-element Vector{Float64}:\n",
       " 18.383886633134814\n",
       "  8.55770151410267\n",
       "  5.11671431742654\n",
       "  3.353333929033819\n",
       "  2.3082162000107957\n",
       "  1.6431863658206738\n",
       "  1.2015046969739323\n",
       "  0.8989201052199165\n",
       "  0.6862922515493683\n",
       "  0.5335238620487099"
      ]
     },
     "metadata": {},
     "output_type": "display_data"
    }
   ],
   "source": [
    "x = [(2π/n) for n in 1:10]\n",
    "y = sin.(x)\n",
    "f(x) = 3x^3/(1+x^2)\n",
    "z = f.(x)\n",
    "# z = f(x) # this leads to an error"
   ]
  },
  {
   "cell_type": "code",
   "execution_count": 56,
   "id": "8bcb748c",
   "metadata": {},
   "outputs": [
    {
     "data": {
      "text/plain": [
       "10-element Vector{Float64}:\n",
       "     -4.828671033653536e6\n",
       " -18039.263768983117\n",
       "   -610.7857528421777\n",
       "    -40.50500091388652\n",
       "      0.12239075156841928\n",
       "      3.0788623155395416\n",
       "      2.5165970179806223\n",
       "      1.8406756088311296\n",
       "      1.3594357907060943\n",
       "      1.0347659706787375"
      ]
     },
     "metadata": {},
     "output_type": "display_data"
    }
   ],
   "source": [
    "# This two are equivalent\n",
    "y = 2x.^2 + 3x.^5 - 2x.^8\n",
    "y = @. 2x^2 + 3x^5 - 2x^8"
   ]
  },
  {
   "cell_type": "markdown",
   "id": "3f8a09e0",
   "metadata": {},
   "source": [
    "## Array indexing\n",
    "Since the indexes of the arrays in julia can start also from negative values (the default is 1, as Matlab), to call the first and the last element of a vector is preferable to use the keywords `begin` and `end`.  \n",
    "## Array slicing\n",
    "See the example below."
   ]
  },
  {
   "cell_type": "code",
   "execution_count": 57,
   "id": "b1879905",
   "metadata": {},
   "outputs": [
    {
     "data": {
      "text/plain": [
       "3×3 Matrix{Float64}:\n",
       " 0.334943  0.230769  0.319854\n",
       " 0.991663  0.205644  0.762805\n",
       " 0.452046  0.676719  0.206799"
      ]
     },
     "metadata": {},
     "output_type": "display_data"
    }
   ],
   "source": [
    "A = rand(6,6)                   # 6×6 Matrix{Float64}\n",
    "B = A[begin:2:end,begin:2:end]  # 3×3 Matrix{Float64}\n",
    "C = A[1:2:5,1:2:5]              # Same as B"
   ]
  },
  {
   "cell_type": "markdown",
   "id": "48a3b07e",
   "metadata": {},
   "source": [
    "## Logical indexing\n",
    "Looking at the following example should be enough to understand the meaning and the way to use it. Note the necessity of using the dot operator for operations."
   ]
  },
  {
   "cell_type": "code",
   "execution_count": null,
   "id": "def46c39",
   "metadata": {},
   "outputs": [
    {
     "name": "stdout",
     "output_type": "stream",
     "text": [
      "A = [0.5758593873852039 0.0 0.6661484154975396 0.0 0.0 0.0; 0.8303551264151807 0.5679582131422078 0.9559971204703669 0.774566878617839 0.8496861624761051 0.0; 0.9799267013915215 0.7832457008929028 0.0 0.0 0.8754319522395653 0.5626690616548194; 0.0 0.0 0.8416432917664465 0.5440056281719026 0.682793637212791 0.9006420408395567; 0.6420901814429609 0.0 0.0 0.0 0.0 0.0; 0.732090518587796 0.0 0.7288924493192676 0.0 0.0 0.0]\n"
     ]
    }
   ],
   "source": [
    "A = rand(6,6)\n",
    "A[ A .< 0.5 ] .= 0\n",
    "print(\"A = $A\")"
   ]
  },
  {
   "cell_type": "code",
   "execution_count": null,
   "id": "27b39af2",
   "metadata": {},
   "outputs": [
    {
     "name": "stdout",
     "output_type": "stream",
     "text": [
      "i=1 A[i]=0.8952252061705199\n",
      "i=2 A[i]=0.8021659340553916\n",
      "i=3 A[i]=0.04314958482892717\n",
      "i=4 A[i]=0.6095741578881204\n",
      "i=5 A[i]=0.3271679837892404\n",
      "i=6 A[i]=0.8460011852063706\n"
     ]
    }
   ],
   "source": [
    "A = rand(6)\n",
    "for i ∈ eachindex(A)\n",
    "    println(string(\"i=$(i) A[i]=$(A[i])\"))\n",
    "end"
   ]
  },
  {
   "cell_type": "code",
   "execution_count": 65,
   "id": "fe4c9d3b",
   "metadata": {},
   "outputs": [
    {
     "name": "stdout",
     "output_type": "stream",
     "text": [
      "i=1 A[i]=0.09537156474792541\n",
      "i=2 A[i]=0.0027236611793084453\n",
      "i=3 A[i]=0.9618597284887679\n",
      "i=4 A[i]=0.2274685427036348\n",
      "i=5 A[i]=0.29497335031623184\n",
      "i=6 A[i]=0.7137937710763594\n",
      "i=7 A[i]=0.6879786839255004\n",
      "i=8 A[i]=0.7287838840695937\n",
      "i=9 A[i]=0.7484876541788851\n",
      "i=10 A[i]=0.9758430616032329\n",
      "i=11 A[i]=0.08326590782783994\n",
      "i=12 A[i]=0.14513430254113058\n",
      "i=13 A[i]=0.23478889608903686\n",
      "i=14 A[i]=0.9347833567879398\n",
      "i=15 A[i]=0.7031598839803592\n",
      "i=16 A[i]=0.4590206888465864\n",
      "i=17 A[i]=0.131194158394337\n",
      "i=18 A[i]=0.20753979154194513\n",
      "i=19 A[i]=0.06647190116707247\n",
      "i=20 A[i]=0.6548485067963913\n",
      "i=21 A[i]=0.7941140371800702\n",
      "i=22 A[i]=0.08284377365780282\n",
      "i=23 A[i]=0.2112442630415413\n",
      "i=24 A[i]=0.6456172573292991\n",
      "i=25 A[i]=0.03401978396507699\n",
      "i=26 A[i]=0.7593475034151281\n",
      "i=27 A[i]=0.1720236859604457\n",
      "i=28 A[i]=0.920264814913247\n",
      "i=29 A[i]=0.23423919721250885\n",
      "i=30 A[i]=0.7016388610754603\n",
      "i=31 A[i]=0.6645736771087408\n",
      "i=32 A[i]=0.39598340624788475\n",
      "i=33 A[i]=0.06307948753516324\n",
      "i=34 A[i]=0.6622836093158107\n",
      "i=35 A[i]=0.15307953501206417\n",
      "i=36 A[i]=0.5685768326974285\n"
     ]
    }
   ],
   "source": [
    "A = rand(6,6)\n",
    "for i ∈ eachindex(A)\n",
    "    println(string(\"i=$(i) A[i]=$(A[i])\"))\n",
    "end"
   ]
  },
  {
   "cell_type": "code",
   "execution_count": 66,
   "id": "367f2042",
   "metadata": {},
   "outputs": [
    {
     "name": "stdout",
     "output_type": "stream",
     "text": [
      "i=1 j=1 A[i,j]=0.08199451874152675\n",
      "i=1 j=2 A[i,j]=0.5333495906188863\n",
      "i=1 j=3 A[i,j]=0.3815747736732601\n",
      "i=1 j=4 A[i,j]=0.6156434184736557\n",
      "i=1 j=5 A[i,j]=0.29653299630392493\n",
      "i=1 j=6 A[i,j]=0.8898697271105654\n",
      "i=2 j=1 A[i,j]=0.038163428803294375\n",
      "i=2 j=2 A[i,j]=0.5697849857506454\n",
      "i=2 j=3 A[i,j]=0.6583304162705064\n",
      "i=2 j=4 A[i,j]=0.6415553648031175\n",
      "i=2 j=5 A[i,j]=0.7125108775707996\n",
      "i=2 j=6 A[i,j]=0.7241336216272968\n",
      "i=3 j=1 A[i,j]=0.7626503588388537\n",
      "i=3 j=2 A[i,j]=0.3485922761372462\n",
      "i=3 j=3 A[i,j]=0.15313897140689436\n",
      "i=3 j=4 A[i,j]=0.46702987925070494\n",
      "i=3 j=5 A[i,j]=0.31453723933934474\n",
      "i=3 j=6 A[i,j]=0.1846223595333758\n",
      "i=4 j=1 A[i,j]=0.3943499804041536\n",
      "i=4 j=2 A[i,j]=0.38513873446176217\n",
      "i=4 j=3 A[i,j]=0.7715317821051808\n",
      "i=4 j=4 A[i,j]=0.9958155709909351\n",
      "i=4 j=5 A[i,j]=0.13519228371439818\n",
      "i=4 j=6 A[i,j]=0.2119785378294301\n",
      "i=5 j=1 A[i,j]=0.21641647649875484\n",
      "i=5 j=2 A[i,j]=0.4369827957149012\n",
      "i=5 j=3 A[i,j]=0.5494393609298728\n",
      "i=5 j=4 A[i,j]=0.26725480269497737\n",
      "i=5 j=5 A[i,j]=0.4840002008618681\n",
      "i=5 j=6 A[i,j]=0.15224911895146886\n",
      "i=6 j=1 A[i,j]=0.4201813573324936\n",
      "i=6 j=2 A[i,j]=0.5944722390541147\n",
      "i=6 j=3 A[i,j]=0.9645435723381547\n",
      "i=6 j=4 A[i,j]=0.3034587959328129\n",
      "i=6 j=5 A[i,j]=0.5023788478108518\n",
      "i=6 j=6 A[i,j]=0.8929425334744383\n"
     ]
    }
   ],
   "source": [
    "A = rand(6,6)\n",
    "for i ∈ 1:size(A,1), j ∈ 1:size(A,2)\n",
    "    println(string(\"i=$(i) j=$(j) A[i,j]=$(A[i,j])\"))\n",
    "end"
   ]
  },
  {
   "cell_type": "markdown",
   "id": "047a0150",
   "metadata": {},
   "source": [
    "Or can be used generic-array functions:"
   ]
  },
  {
   "cell_type": "code",
   "execution_count": 67,
   "id": "0bffb50c",
   "metadata": {},
   "outputs": [
    {
     "name": "stdout",
     "output_type": "stream",
     "text": [
      "i=1 j=1 A[i,j]=0.3404165731129897\n",
      "i=1 j=2 A[i,j]=0.07312665209695712\n",
      "i=1 j=3 A[i,j]=0.7707503392295393\n",
      "i=1 j=4 A[i,j]=0.6540533718814137\n",
      "i=1 j=5 A[i,j]=0.059862886243675195\n",
      "i=1 j=6 A[i,j]=0.4769812618925574\n",
      "i=2 j=1 A[i,j]=0.6405279327781647\n",
      "i=2 j=2 A[i,j]=0.2001219753016792\n",
      "i=2 j=3 A[i,j]=0.9244228454607523\n",
      "i=2 j=4 A[i,j]=0.07451304491241495\n",
      "i=2 j=5 A[i,j]=0.19532262154010027\n",
      "i=2 j=6 A[i,j]=0.982052327575118\n",
      "i=3 j=1 A[i,j]=0.354865563005626\n",
      "i=3 j=2 A[i,j]=0.7844290810936474\n",
      "i=3 j=3 A[i,j]=0.8948799262067655\n",
      "i=3 j=4 A[i,j]=0.5960267107810039\n",
      "i=3 j=5 A[i,j]=0.08746055769324401\n",
      "i=3 j=6 A[i,j]=0.8285651802680777\n",
      "i=4 j=1 A[i,j]=0.6797548920592136\n",
      "i=4 j=2 A[i,j]=0.9769539051071127\n",
      "i=4 j=3 A[i,j]=0.6208565025285837\n",
      "i=4 j=4 A[i,j]=0.7442783557719834\n",
      "i=4 j=5 A[i,j]=0.7877300761150916\n",
      "i=4 j=6 A[i,j]=0.06801742224540075\n",
      "i=5 j=1 A[i,j]=0.13488272456997574\n",
      "i=5 j=2 A[i,j]=0.3385274646827914\n",
      "i=5 j=3 A[i,j]=0.36886212037390864\n",
      "i=5 j=4 A[i,j]=0.981668289936363\n",
      "i=5 j=5 A[i,j]=0.3247025163728432\n",
      "i=5 j=6 A[i,j]=0.9773153246335874\n",
      "i=6 j=1 A[i,j]=0.2610187956130573\n",
      "i=6 j=2 A[i,j]=0.5322533772551931\n",
      "i=6 j=3 A[i,j]=0.2917404371723272\n",
      "i=6 j=4 A[i,j]=0.514655675278685\n",
      "i=6 j=5 A[i,j]=0.5509436473340358\n",
      "i=6 j=6 A[i,j]=0.825983776651191\n"
     ]
    }
   ],
   "source": [
    "A = rand(6,6)\n",
    "for i ∈ axes(A,1), j ∈ axes(A,2)\n",
    "    println(string(\"i=$(i) j=$(j) A[i,j]=$(A[i,j])\"))\n",
    "end"
   ]
  },
  {
   "cell_type": "markdown",
   "id": "8cdbf069",
   "metadata": {},
   "source": [
    "Other useful generic-array functions include:  \n",
    "- `firstindex(A,dim)`;\n",
    "- `lastindex(A,dim)`;\n",
    "- `similar(Array{Float64}, axes(A))`.  \n",
    "\n",
    "More information at https://docs.julialang.org/en/v1/devdocs/offset-arrays/\n"
   ]
  },
  {
   "cell_type": "markdown",
   "id": "660a9dfa",
   "metadata": {},
   "source": [
    "## Array operations\n",
    "I don't even write the trivial things, such as matrix-matrix multiplication, matrix-vector multiplication, or elemt-wise multiplication (using the dot).  \n",
    "A biyt more interesting is the dot product, performed by using the `dot` function as follows.\n"
   ]
  },
  {
   "cell_type": "code",
   "execution_count": null,
   "id": "778601f0",
   "metadata": {},
   "outputs": [
    {
     "data": {
      "text/plain": [
       "2.081222249752056"
      ]
     },
     "metadata": {},
     "output_type": "display_data"
    }
   ],
   "source": [
    "v1 = rand(10)\n",
    "v2 = rand(10)\n",
    "dot_results = dot(v1,v2) # or equivalently, v1'v2\n",
    "dot_results = v1'v2 # Matrix{Float64}"
   ]
  },
  {
   "cell_type": "markdown",
   "id": "9f1f885a",
   "metadata": {},
   "source": [
    "Also interesting there is the Matlab-style `\\` operator, to solve linear systems in case of square matrix, or to find the least squares solution in case of rectangular matrices. NB: the matrix is always the first term"
   ]
  },
  {
   "cell_type": "code",
   "execution_count": 73,
   "id": "06d87323",
   "metadata": {},
   "outputs": [
    {
     "data": {
      "text/plain": [
       "3-element Vector{Float64}:\n",
       " 14.241654545338518\n",
       " -3.5451838266229636\n",
       "  5.40710282835447"
      ]
     },
     "metadata": {},
     "output_type": "display_data"
    }
   ],
   "source": [
    "A = rand(3,3)                   # 3×3 Matrix{Float64}\n",
    "b1 = [4.0, 5, 6]                # 3-element Vector{Float64}\n",
    "b2 = [4.0; 5; 6]                # 3-element Vector{Float64}\n",
    "m1 = [4.0 5 6]                  # 1×3 Matrix{Float64}\n",
    "\n",
    "x=A\\b1                          # Solves A*x=b\n",
    "x=A\\b2                          # Solves A*x=b  \n",
    "# x=A\\m1                          # Error!!"
   ]
  },
  {
   "cell_type": "markdown",
   "id": "5ac592e3",
   "metadata": {},
   "source": [
    "## Concatenations\n",
    "all the informations about concatenations are reported here https://www.matecdev.com/posts/julia-array-resize-concatenate.html  \n",
    "## Data structures\n",
    "the same for structures https://www.matecdev.com/posts/julia-basic-data-structures.html\n",
    "## Plots\n",
    "the same for plots https://www.matecdev.com/posts/julia-plotting.html"
   ]
  }
 ],
 "metadata": {
  "kernelspec": {
   "display_name": "Julia 1.11.5",
   "language": "julia",
   "name": "julia-1.11"
  },
  "language_info": {
   "file_extension": ".jl",
   "mimetype": "application/julia",
   "name": "julia",
   "version": "1.11.5"
  }
 },
 "nbformat": 4,
 "nbformat_minor": 5
}
